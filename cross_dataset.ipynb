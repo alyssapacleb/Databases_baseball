{
 "cells": [
  {
   "cell_type": "markdown",
   "metadata": {},
   "source": [
    "# Select all the players in the MLB and NPB who batted the same number of times in the same year"
   ]
  },
  {
   "cell_type": "code",
   "execution_count": 5,
   "metadata": {},
   "outputs": [
    {
     "data": {
      "text/html": [
       "<div>\n",
       "<style scoped>\n",
       "    .dataframe tbody tr th:only-of-type {\n",
       "        vertical-align: middle;\n",
       "    }\n",
       "\n",
       "    .dataframe tbody tr th {\n",
       "        vertical-align: top;\n",
       "    }\n",
       "\n",
       "    .dataframe thead th {\n",
       "        text-align: right;\n",
       "    }\n",
       "</style>\n",
       "<table border=\"1\" class=\"dataframe\">\n",
       "  <thead>\n",
       "    <tr style=\"text-align: right;\">\n",
       "      <th></th>\n",
       "    </tr>\n",
       "  </thead>\n",
       "  <tbody>\n",
       "  </tbody>\n",
       "</table>\n",
       "</div>"
      ],
      "text/plain": [
       "Empty DataFrame\n",
       "Columns: []\n",
       "Index: []"
      ]
     },
     "execution_count": 5,
     "metadata": {},
     "output_type": "execute_result"
    }
   ],
   "source": [
    "%%bigquery \n",
    "create or replace view reporting.v_Games_Batting as\n",
    "select distinct a.yearID, concat(nameFirst,' ' , nameLast) as MLB_Player, concat(j.FName,' ', j.LName) as NPB_Player, j.g as games_batting\n",
    "from `extended-ascent-252921.seanlahman_modeled.player_stats_all`\n",
    " a join `extended-ascent-252921.seanlahman_modeled.players_Beam` b\n",
    "on a.playerID = b.playerID, `extended-ascent-252921.seanlahman_modeled.player_stats_all` join `extended-ascent-252921.sabermetrics_modeled.jBat_Beam_DF` j\n",
    "on (a.yearID = j.Year and a.b_g = j.g)\n",
    "where a.b_g > 50 \n",
    "order by a.yearID"
   ]
  },
  {
   "cell_type": "markdown",
   "metadata": {},
   "source": [
    "# Averages the number of runs each team in the MLB and NPB scored every year from 1990 to 2006"
   ]
  },
  {
   "cell_type": "code",
   "execution_count": 7,
   "metadata": {},
   "outputs": [
    {
     "data": {
      "text/html": [
       "<div>\n",
       "<style scoped>\n",
       "    .dataframe tbody tr th:only-of-type {\n",
       "        vertical-align: middle;\n",
       "    }\n",
       "\n",
       "    .dataframe tbody tr th {\n",
       "        vertical-align: top;\n",
       "    }\n",
       "\n",
       "    .dataframe thead th {\n",
       "        text-align: right;\n",
       "    }\n",
       "</style>\n",
       "<table border=\"1\" class=\"dataframe\">\n",
       "  <thead>\n",
       "    <tr style=\"text-align: right;\">\n",
       "      <th></th>\n",
       "    </tr>\n",
       "  </thead>\n",
       "  <tbody>\n",
       "  </tbody>\n",
       "</table>\n",
       "</div>"
      ],
      "text/plain": [
       "Empty DataFrame\n",
       "Columns: []\n",
       "Index: []"
      ]
     },
     "execution_count": 7,
     "metadata": {},
     "output_type": "execute_result"
    }
   ],
   "source": [
    "%%bigquery \n",
    "create or replace view reporting.v_MLB_vs_NPB as\n",
    "select  yearID, a.teamID, \"USA\" as Country, avg (a.b_R) as average_team_runs \n",
    "from `extended-ascent-252921.seanlahman_modeled.player_stats_all` a\n",
    "where yearID > 1990 and yearID < 2006\n",
    "group by  a.teamID, yearID\n",
    "union distinct\n",
    "select  Year, b.TeamID, \"Japan\" as Country, avg (b.R) as average_team_runs\n",
    "from `extended-ascent-252921.sabermetrics_modeled.jBat_Beam_DF` b\n",
    "where Year > 1990 and Year < 2006\n",
    "group by  b.TeamID, Year\n",
    "order by average_team_runs desc "
   ]
  },
  {
   "cell_type": "markdown",
   "metadata": {},
   "source": [
    "# Finds the players who played in both the MLB and NPB who scored at least one homerun in both leages and the years they played for the different leagues."
   ]
  },
  {
   "cell_type": "code",
   "execution_count": 13,
   "metadata": {},
   "outputs": [
    {
     "data": {
      "text/html": [
       "<div>\n",
       "<style scoped>\n",
       "    .dataframe tbody tr th:only-of-type {\n",
       "        vertical-align: middle;\n",
       "    }\n",
       "\n",
       "    .dataframe tbody tr th {\n",
       "        vertical-align: top;\n",
       "    }\n",
       "\n",
       "    .dataframe thead th {\n",
       "        text-align: right;\n",
       "    }\n",
       "</style>\n",
       "<table border=\"1\" class=\"dataframe\">\n",
       "  <thead>\n",
       "    <tr style=\"text-align: right;\">\n",
       "      <th></th>\n",
       "    </tr>\n",
       "  </thead>\n",
       "  <tbody>\n",
       "  </tbody>\n",
       "</table>\n",
       "</div>"
      ],
      "text/plain": [
       "Empty DataFrame\n",
       "Columns: []\n",
       "Index: []"
      ]
     },
     "execution_count": 13,
     "metadata": {},
     "output_type": "execute_result"
    }
   ],
   "source": [
    "%%bigquery \n",
    "create or replace table sabermetrics_modeled.test as\n",
    "select distinct a.yearID as year_MLB, j.Year as year_NPB, concat(nameFirst,' ' , nameLast) as Player, a.b_HR as Homeruns_MLB, j.HR as Homeruns_NPB\n",
    "from `extended-ascent-252921.seanlahman_modeled.player_stats_all`\n",
    " a join `extended-ascent-252921.seanlahman_modeled.players_Beam` b\n",
    "on a.playerID = b.playerID, `extended-ascent-252921.seanlahman_modeled.player_stats_all` join `extended-ascent-252921.sabermetrics_modeled.jBat_Beam_DF` j\n",
    "on (concat(nameFirst,' ' , nameLast) = concat(j.FName,' ', j.LName))\n",
    "where a.b_HR > 0 and j.HR > 0\n",
    "order by a.yearID"
   ]
  },
  {
   "cell_type": "code",
   "execution_count": 15,
   "metadata": {},
   "outputs": [
    {
     "data": {
      "text/html": [
       "<div>\n",
       "<style scoped>\n",
       "    .dataframe tbody tr th:only-of-type {\n",
       "        vertical-align: middle;\n",
       "    }\n",
       "\n",
       "    .dataframe tbody tr th {\n",
       "        vertical-align: top;\n",
       "    }\n",
       "\n",
       "    .dataframe thead th {\n",
       "        text-align: right;\n",
       "    }\n",
       "</style>\n",
       "<table border=\"1\" class=\"dataframe\">\n",
       "  <thead>\n",
       "    <tr style=\"text-align: right;\">\n",
       "      <th></th>\n",
       "    </tr>\n",
       "  </thead>\n",
       "  <tbody>\n",
       "  </tbody>\n",
       "</table>\n",
       "</div>"
      ],
      "text/plain": [
       "Empty DataFrame\n",
       "Columns: []\n",
       "Index: []"
      ]
     },
     "execution_count": 15,
     "metadata": {},
     "output_type": "execute_result"
    }
   ],
   "source": [
    "%%bigquery \n",
    "create or replace view reporting.v_Switchers as\n",
    "select year_MLB as year, Player, Homeruns_MLB as Homeruns, \"USA\" as Country\n",
    "from `extended-ascent-252921.sabermetrics_modeled.test`\n",
    "union distinct \n",
    "select year_NPB as year, Player, Homeruns_NPB as Homeruns, \"Japan\" as Country\n",
    "from `extended-ascent-252921.sabermetrics_modeled.test`\n",
    "order by year"
   ]
  },
  {
   "cell_type": "code",
   "execution_count": null,
   "metadata": {},
   "outputs": [],
   "source": []
  }
 ],
 "metadata": {
  "kernelspec": {
   "display_name": "Python 2",
   "language": "python",
   "name": "python2"
  },
  "language_info": {
   "codemirror_mode": {
    "name": "ipython",
    "version": 2
   },
   "file_extension": ".py",
   "mimetype": "text/x-python",
   "name": "python",
   "nbconvert_exporter": "python",
   "pygments_lexer": "ipython2",
   "version": "2.7.13"
  }
 },
 "nbformat": 4,
 "nbformat_minor": 4
}
